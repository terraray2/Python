{
  "nbformat": 4,
  "nbformat_minor": 0,
  "metadata": {
    "colab": {
      "provenance": [],
      "authorship_tag": "ABX9TyN9D4c1npC7DpzwaK9sIgm4",
      "include_colab_link": true
    },
    "kernelspec": {
      "name": "python3",
      "display_name": "Python 3"
    },
    "language_info": {
      "name": "python"
    }
  },
  "cells": [
    {
      "cell_type": "markdown",
      "metadata": {
        "id": "view-in-github",
        "colab_type": "text"
      },
      "source": [
        "<a href=\"https://colab.research.google.com/github/terraray2/Python/blob/main/Project_Calculator.ipynb\" target=\"_parent\"><img src=\"https://colab.research.google.com/assets/colab-badge.svg\" alt=\"Open In Colab\"/></a>"
      ]
    },
    {
      "cell_type": "markdown",
      "source": [
        "Create a simple calculator"
      ],
      "metadata": {
        "id": "v0nSLHWXT7an"
      }
    },
    {
      "cell_type": "code",
      "source": [
        "def add(x,y):\n",
        "  return x+y\n",
        "\n",
        "def subtract(x,y):\n",
        "  return x-y\n",
        "\n",
        "def multiply(x,y):\n",
        "  return x*y\n",
        "\n",
        "def divide(x,y):\n",
        "  return x/y\n"
      ],
      "metadata": {
        "id": "3MD_pqTwUp2v"
      },
      "execution_count": 1,
      "outputs": []
    },
    {
      "cell_type": "code",
      "source": [
        "\n",
        "print(\"\"\"Choose a Math Operation\n",
        "Enter \"A\" for Addition\n",
        "Enter \"S\" for Subtraction\n",
        "Enter \"M\" for Multiplication\n",
        "Enter \"D\" for Division\n",
        "\"\"\")\n",
        "\n",
        "\n",
        "\n",
        "while True:\n",
        "\n",
        "    choice = input(\"Enter a choice (A,S,M,D): \")\n",
        "\n",
        "    number_one = int(input(\"Enter First Number: \"))\n",
        "\n",
        "    number_two = int(input(\"Enter Second Number: \"))\n",
        "\n",
        "    if choice.lower() in ['a','add','addition']:\n",
        "        print(number_one, \"+\", number_two, \"=\",add(number_one,number_two))\n",
        "    elif choice.lower() in ['s','sub','subtraction']:\n",
        "        print(number_one, \"-\", number_two, \"=\",subtract(number_one,number_two))\n",
        "    elif choice.lower() in ['m','multiply','multiplication']:\n",
        "        print(number_one, \"*\", number_two, \"=\",multiply(number_one,number_two))\n",
        "    elif choice.lower() in ['d','divide','division']:\n",
        "        print(number_one, \"/\", number_two, \"=\",divide(number_one,number_two))\n",
        "\n",
        "    else:\n",
        "        print(\"Please enter an valid input (A,S,M,D)\")\n",
        "\n",
        "    next_calculation = input(\"Do you want to do another calculation? (yes,no): \")\n",
        "    if next_calculation.lower() in ['no','n','nope']:\n",
        "        break\n",
        "    else:\n",
        "        continue"
      ],
      "metadata": {
        "colab": {
          "base_uri": "https://localhost:8080/"
        },
        "id": "1Uv4fxwVVkTX",
        "outputId": "1524ef9c-28b5-4349-f2ab-1e87b904fcdf"
      },
      "execution_count": 2,
      "outputs": [
        {
          "name": "stdout",
          "output_type": "stream",
          "text": [
            "Choose a Math Operation\n",
            "Enter \"A\" for Addition\n",
            "Enter \"S\" for Subtraction\n",
            "Enter \"M\" for Multiplication\n",
            "Enter \"D\" for Division\n",
            "\n",
            "Enter a choice (A,S,M,D): A\n",
            "Enter First Number: 5\n",
            "Enter Second Number: 5\n",
            "5 + 5 = 10\n",
            "Do you want to do another calculation? (yes,no): n\n"
          ]
        }
      ]
    },
    {
      "cell_type": "code",
      "source": [],
      "metadata": {
        "id": "rqLMjkB3XRk8"
      },
      "execution_count": null,
      "outputs": []
    }
  ]
}
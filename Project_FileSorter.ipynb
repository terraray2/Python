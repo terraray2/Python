{
  "nbformat": 4,
  "nbformat_minor": 0,
  "metadata": {
    "colab": {
      "provenance": []
    },
    "kernelspec": {
      "name": "python3",
      "display_name": "Python 3"
    },
    "language_info": {
      "name": "python"
    }
  },
  "cells": [
    {
      "cell_type": "code",
      "execution_count": 1,
      "metadata": {
        "colab": {
          "base_uri": "https://localhost:8080/",
          "height": 219
        },
        "id": "8bCUzVNFeJHR",
        "outputId": "1dd26d3b-a68f-41e1-b844-e6c0a9b0daa0"
      },
      "outputs": [
        {
          "output_type": "error",
          "ename": "FileNotFoundError",
          "evalue": "[Errno 2] No such file or directory: 'C:\\\\Users\\\\alexf\\\\OneDrive\\\\Documents\\\\Python Tutorials\\\\Automatic_Sorter\\\\\\\\'",
          "traceback": [
            "\u001b[0;31m---------------------------------------------------------------------------\u001b[0m",
            "\u001b[0;31mFileNotFoundError\u001b[0m                         Traceback (most recent call last)",
            "\u001b[0;32m<ipython-input-1-12221ffbd169>\u001b[0m in \u001b[0;36m<cell line: 0>\u001b[0;34m()\u001b[0m\n\u001b[1;32m      2\u001b[0m \u001b[0;32mimport\u001b[0m \u001b[0mos\u001b[0m\u001b[0;34m,\u001b[0m \u001b[0mshutil\u001b[0m\u001b[0;34m\u001b[0m\u001b[0;34m\u001b[0m\u001b[0m\n\u001b[1;32m      3\u001b[0m \u001b[0mpath\u001b[0m \u001b[0;34m=\u001b[0m \u001b[0;34mr'C:\\Users\\alexf\\OneDrive\\Documents\\Python Tutorials\\Automatic_Sorter\\\\'\u001b[0m\u001b[0;34m\u001b[0m\u001b[0;34m\u001b[0m\u001b[0m\n\u001b[0;32m----> 4\u001b[0;31m \u001b[0mos\u001b[0m\u001b[0;34m.\u001b[0m\u001b[0mlistdir\u001b[0m\u001b[0;34m(\u001b[0m\u001b[0mpath\u001b[0m\u001b[0;34m)\u001b[0m\u001b[0;34m\u001b[0m\u001b[0;34m\u001b[0m\u001b[0m\n\u001b[0m\u001b[1;32m      5\u001b[0m ['CSVFile.csv',\n\u001b[1;32m      6\u001b[0m  \u001b[0;34m'FakeFile.csv'\u001b[0m\u001b[0;34m,\u001b[0m\u001b[0;34m\u001b[0m\u001b[0;34m\u001b[0m\u001b[0m\n",
            "\u001b[0;31mFileNotFoundError\u001b[0m: [Errno 2] No such file or directory: 'C:\\\\Users\\\\alexf\\\\OneDrive\\\\Documents\\\\Python Tutorials\\\\Automatic_Sorter\\\\\\\\'"
          ]
        }
      ],
      "source": [
        "#Automatic File Sorter\n",
        "import os, shutil\n",
        "path = r'C:\\Users\\alexf\\OneDrive\\Documents\\Python Tutorials\\Automatic_Sorter\\\\'\n",
        "os.listdir(path)\n",
        "['CSVFile.csv',\n",
        " 'FakeFile.csv',\n",
        " 'FakeFile.txt',\n",
        " 'Max.png',\n",
        " 'NewFile.txt',\n",
        " 'Rosie.png']\n",
        "#os.makedirs(path + new_folder_name)\n",
        "folder_names = ['CSV Files','Text Files','Image Files']\n",
        "\n",
        "#C:\\Users\\alexf\\OneDrive\\Documents\\Python Tutorials\\Automatic_Sorter\\Image Files'\n",
        "\n",
        "for folder in folder_names:\n",
        "    if not os.path.exists(path + folder):\n",
        "        os.makedirs(path + folder)\n",
        "os.listdir(path)\n",
        "['CSV Files',\n",
        " 'CSVFile.csv',\n",
        " 'FakeFile.csv',\n",
        " 'FakeFile.txt',\n",
        " 'Image Files',\n",
        " 'Max.png',\n",
        " 'NewFile.txt',\n",
        " 'Rosie.png',\n",
        " 'Text Files']\n",
        "file_names = os.listdir(path)\n",
        "path = r'C:\\Users\\alexf\\OneDrive\\Documents\\Python Tutorials\\Automatic_Sorter\\\\'\n",
        "for file in file_names:\n",
        "    if \".csv\" in file and not os.path.exists(path + \"CSV Files\\\\\" + file):\n",
        "        shutil.move(path + file, path + \"CSV Files\\\\\" + file)\n",
        "    elif \".png\" in file and not os.path.exists(path + \"Image Files\\\\\" + file):\n",
        "        shutil.move(path + file, path + \"Image Files\\\\\" + file)\n",
        "    elif \".txt\" in file and not os.path.exists(path + \"Text Files\\\\\" + file):\n",
        "        shutil.move(path + file, path + \"Text Files\\\\\" + file)\n",
        "\n",
        "path = r'C:\\Users\\alexf\\OneDrive\\Documents\\Python Tutorials\\Automatic_Sorter\\\\'\n",
        "\n",
        "folder_names = ['CSV Files','Text Files','Image Files']\n",
        "\n",
        "\n",
        "for folder in folder_names:\n",
        "    if not os.path.exists(path + folder):\n",
        "        os.makedirs(path + folder)\n",
        "\n",
        "\n",
        "file_names = os.listdir(path)\n",
        "\n",
        "\n",
        "for file in file_names:\n",
        "    if \".csv\" in file and not os.path.exists(path + \"CSV Files\\\\\" + file):\n",
        "        shutil.move(path + file, path + \"CSV Files\\\\\" + file)\n",
        "    elif \".png\" in file and not os.path.exists(path + \"Image Files\\\\\" + file):\n",
        "        shutil.move(path + file, path + \"Image Files\\\\\" + file)\n",
        "    elif \".txt\" in file and not os.path.exists(path + \"Text Files\\\\\" + file):\n",
        "        shutil.move(path + file, path + \"Text Files\\\\\" + file)"
      ]
    }
  ]
}